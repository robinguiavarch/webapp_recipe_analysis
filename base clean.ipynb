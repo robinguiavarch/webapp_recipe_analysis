{
 "cells": [
  {
   "cell_type": "code",
   "execution_count": null,
   "metadata": {},
   "outputs": [],
   "source": [
    "import pandas as pd\n",
    "from IPython.display import display\n",
    "\n",
    "\n",
    "\n",
    "# on importe les data set\n",
    "\n",
    "\n",
    "interactions = pd.read_csv(\n",
    "\n",
    "\n",
    "\n",
    "\n",
    "\n",
    "    \"C:\\\\Users\\\\33618\\\\OneDrive\\\\Documents\\\\Cours Telecom\\\\kit data\\\\archive\\\\RAW_interactions.csv\")\n",
    "\n",
    "recipes = pd.read_csv(\n",
    "    \"C:\\\\Users\\\\33618\\\\OneDrive\\\\Documents\\\\Cours Telecom\\\\kit data\\\\sujet\\\\RAW_recipes.csv\")\n",
    "\n",
    "#"
   ]
  },
  {
   "cell_type": "code",
   "execution_count": 3,
   "metadata": {},
   "outputs": [
    {
     "name": "stdout",
     "output_type": "stream",
     "text": [
      "   user_id  recipe_id        date  rating  \\\n",
      "0    38094      40893  2003-02-17       4   \n",
      "1  1293707      40893  2011-12-21       5   \n",
      "2     8937      44394  2002-12-01       4   \n",
      "3   126440      85009  2010-02-27       5   \n",
      "4    57222      85009  2011-10-01       5   \n",
      "\n",
      "                                              review  \n",
      "0  Great with a salad. Cooked on top of stove for...  \n",
      "1  So simple, so delicious! Great for chilly fall...  \n",
      "2  This worked very well and is EASY.  I used not...  \n",
      "3  I made the Mexican topping and took it to bunk...  \n",
      "4  Made the cheddar bacon topping, adding a sprin...  \n",
      "                                         name      id  minutes  \\\n",
      "0  arriba   baked winter squash mexican style  137739       55   \n",
      "1            a bit different  breakfast pizza   31490       30   \n",
      "2                   all in the kitchen  chili  112140      130   \n",
      "3                          alouette  potatoes   59389       45   \n",
      "4          amish  tomato ketchup  for canning   44061      190   \n",
      "\n",
      "   contributor_id   submitted  \\\n",
      "0           47892  2005-09-16   \n",
      "1           26278  2002-06-17   \n",
      "2          196586  2005-02-25   \n",
      "3           68585  2003-04-14   \n",
      "4           41706  2002-10-25   \n",
      "\n",
      "                                                tags  \\\n",
      "0  ['60-minutes-or-less', 'time-to-make', 'course...   \n",
      "1  ['30-minutes-or-less', 'time-to-make', 'course...   \n",
      "2  ['time-to-make', 'course', 'preparation', 'mai...   \n",
      "3  ['60-minutes-or-less', 'time-to-make', 'course...   \n",
      "4  ['weeknight', 'time-to-make', 'course', 'main-...   \n",
      "\n",
      "                                    nutrition  n_steps  \\\n",
      "0       [51.5, 0.0, 13.0, 0.0, 2.0, 0.0, 4.0]       11   \n",
      "1   [173.4, 18.0, 0.0, 17.0, 22.0, 35.0, 1.0]        9   \n",
      "2  [269.8, 22.0, 32.0, 48.0, 39.0, 27.0, 5.0]        6   \n",
      "3   [368.1, 17.0, 10.0, 2.0, 14.0, 8.0, 20.0]       11   \n",
      "4   [352.9, 1.0, 337.0, 23.0, 3.0, 0.0, 28.0]        5   \n",
      "\n",
      "                                               steps  \\\n",
      "0  ['make a choice and proceed with recipe', 'dep...   \n",
      "1  ['preheat oven to 425 degrees f', 'press dough...   \n",
      "2  ['brown ground beef in large pot', 'add choppe...   \n",
      "3  ['place potatoes in a large pot of lightly sal...   \n",
      "4  ['mix all ingredients& boil for 2 1 / 2 hours ...   \n",
      "\n",
      "                                         description  \\\n",
      "0  autumn is my favorite time of year to cook! th...   \n",
      "1  this recipe calls for the crust to be prebaked...   \n",
      "2  this modified version of 'mom's' chili was a h...   \n",
      "3  this is a super easy, great tasting, make ahea...   \n",
      "4  my dh's amish mother raised him on this recipe...   \n",
      "\n",
      "                                         ingredients  n_ingredients  \n",
      "0  ['winter squash', 'mexican seasoning', 'mixed ...              7  \n",
      "1  ['prepared pizza crust', 'sausage patty', 'egg...              6  \n",
      "2  ['ground beef', 'yellow onions', 'diced tomato...             13  \n",
      "3  ['spreadable cheese with garlic and herbs', 'n...             11  \n",
      "4  ['tomato juice', 'apple cider vinegar', 'sugar...              8  \n"
     ]
    }
   ],
   "source": [
    "print(interactions.head())\n",
    "print(recipes.head())"
   ]
  },
  {
   "cell_type": "code",
   "execution_count": 4,
   "metadata": {},
   "outputs": [
    {
     "name": "stdout",
     "output_type": "stream",
     "text": [
      "(1132367, 5)\n",
      "(231637, 12)\n"
     ]
    }
   ],
   "source": [
    "print(interactions.shape)\n",
    "print(recipes.shape)"
   ]
  },
  {
   "cell_type": "code",
   "execution_count": 5,
   "metadata": {},
   "outputs": [
    {
     "name": "stdout",
     "output_type": "stream",
     "text": [
      "{'date', 'review', 'rating', 'recipe_id', 'user_id'}\n",
      "{'id', 'nutrition', 'n_steps', 'name', 'submitted', 'tags', 'ingredients', 'n_ingredients', 'description', 'steps', 'contributor_id', 'minutes'}\n"
     ]
    }
   ],
   "source": [
    "print(set(interactions.columns))\n",
    "print(set(recipes.columns))"
   ]
  },
  {
   "cell_type": "code",
   "execution_count": 6,
   "metadata": {},
   "outputs": [
    {
     "name": "stdout",
     "output_type": "stream",
     "text": [
      "<class 'pandas.core.frame.DataFrame'>\n",
      "RangeIndex: 231637 entries, 0 to 231636\n",
      "Data columns (total 12 columns):\n",
      " #   Column          Non-Null Count   Dtype \n",
      "---  ------          --------------   ----- \n",
      " 0   name            231636 non-null  object\n",
      " 1   id              231637 non-null  int64 \n",
      " 2   minutes         231637 non-null  int64 \n",
      " 3   contributor_id  231637 non-null  int64 \n",
      " 4   submitted       231637 non-null  object\n",
      " 5   tags            231637 non-null  object\n",
      " 6   nutrition       231637 non-null  object\n",
      " 7   n_steps         231637 non-null  int64 \n",
      " 8   steps           231637 non-null  object\n",
      " 9   description     226658 non-null  object\n",
      " 10  ingredients     231637 non-null  object\n",
      " 11  n_ingredients   231637 non-null  int64 \n",
      "dtypes: int64(5), object(7)\n",
      "memory usage: 21.2+ MB\n",
      "None\n",
      "<class 'pandas.core.frame.DataFrame'>\n",
      "RangeIndex: 1132367 entries, 0 to 1132366\n",
      "Data columns (total 5 columns):\n",
      " #   Column     Non-Null Count    Dtype \n",
      "---  ------     --------------    ----- \n",
      " 0   user_id    1132367 non-null  int64 \n",
      " 1   recipe_id  1132367 non-null  int64 \n",
      " 2   date       1132367 non-null  object\n",
      " 3   rating     1132367 non-null  int64 \n",
      " 4   review     1132198 non-null  object\n",
      "dtypes: int64(3), object(2)\n",
      "memory usage: 43.2+ MB\n",
      "None\n"
     ]
    }
   ],
   "source": [
    "print(recipes.info())\n",
    "print(interactions.info())"
   ]
  },
  {
   "cell_type": "markdown",
   "metadata": {},
   "source": [
    "On change le type de la colonne date dans interactions: object => datetime "
   ]
  },
  {
   "cell_type": "code",
   "execution_count": null,
   "metadata": {},
   "outputs": [
    {
     "name": "stdout",
     "output_type": "stream",
     "text": [
      "<class 'pandas.core.frame.DataFrame'>\n",
      "RangeIndex: 1132367 entries, 0 to 1132366\n",
      "Data columns (total 5 columns):\n",
      " #   Column     Non-Null Count    Dtype         \n",
      "---  ------     --------------    -----         \n",
      " 0   user_id    1132367 non-null  int64         \n",
      " 1   recipe_id  1132367 non-null  int64         \n",
      " 2   date       1132367 non-null  datetime64[ns]\n",
      " 3   rating     1132367 non-null  int64         \n",
      " 4   review     1132198 non-null  object        \n",
      "dtypes: datetime64[ns](1), int64(3), object(1)\n",
      "memory usage: 43.2+ MB\n",
      "None\n",
      "<class 'pandas.core.frame.DataFrame'>\n",
      "RangeIndex: 231637 entries, 0 to 231636\n",
      "Data columns (total 12 columns):\n",
      " #   Column          Non-Null Count   Dtype         \n",
      "---  ------          --------------   -----         \n",
      " 0   name            231636 non-null  object        \n",
      " 1   id              231637 non-null  int64         \n",
      " 2   minutes         231637 non-null  int64         \n",
      " 3   contributor_id  231637 non-null  int64         \n",
      " 4   submitted       231637 non-null  datetime64[ns]\n",
      " 5   tags            231637 non-null  object        \n",
      " 6   nutrition       231637 non-null  object        \n",
      " 7   n_steps         231637 non-null  int64         \n",
      " 8   steps           231637 non-null  object        \n",
      " 9   description     226658 non-null  object        \n",
      " 10  ingredients     231637 non-null  object        \n",
      " 11  n_ingredients   231637 non-null  int64         \n",
      "dtypes: datetime64[ns](1), int64(5), object(6)\n",
      "memory usage: 21.2+ MB\n",
      "None\n"
     ]
    }
   ],
   "source": [
    "interactions['date'] = pd.to_datetime(interactions['date'])\n",
    "print(interactions.info())\n",
    "\n",
    "recipes['submitted'] = pd.to_datetime(recipes['submitted'])\n",
    "\n",
    "recipes['submitted'] = pd.to_datetime(recipes['submitted'])\n",
    "\n",
    "recipes['n_steps'] = recipes['n_steps'].astype(int)\n",
    "print(recipes.info())"
   ]
  },
  {
   "cell_type": "markdown",
   "metadata": {},
   "source": [
    "On vérifie les nuls\n",
    "\n",
    "=> suppression d'une recette sans titre (recipe)\n",
    "=> 4979 description vides remplacés par \"No description available\"\n",
    "\n",
    "=> 169 review vides remplacées par \"No review available\" (interactions)\n",
    "\n"
   ]
  },
  {
   "cell_type": "code",
   "execution_count": 10,
   "metadata": {},
   "outputs": [
    {
     "name": "stdout",
     "output_type": "stream",
     "text": [
      "name                 1\n",
      "id                   0\n",
      "minutes              0\n",
      "contributor_id       0\n",
      "submitted            0\n",
      "tags                 0\n",
      "nutrition            0\n",
      "n_steps              0\n",
      "steps                0\n",
      "description       4979\n",
      "ingredients          0\n",
      "n_ingredients        0\n",
      "dtype: int64\n",
      "user_id        0\n",
      "recipe_id      0\n",
      "date           0\n",
      "rating         0\n",
      "review       169\n",
      "dtype: int64\n"
     ]
    }
   ],
   "source": [
    "print(recipes.isnull().sum())\n",
    "print(interactions.isnull().sum())"
   ]
  },
  {
   "cell_type": "code",
   "execution_count": null,
   "metadata": {},
   "outputs": [],
   "source": [
    "recipes['description'] = recipes['description'].fillna(\n",
    "    'No description available')\n",
    "recipes = recipes.dropna(subset=['name'])\n",
    "\n",
    "interactions['review'] = interactions.review.fillna('No review available')"
   ]
  },
  {
   "cell_type": "code",
   "execution_count": 14,
   "metadata": {},
   "outputs": [
    {
     "name": "stdout",
     "output_type": "stream",
     "text": [
      "name              0\n",
      "id                0\n",
      "minutes           0\n",
      "contributor_id    0\n",
      "submitted         0\n",
      "tags              0\n",
      "nutrition         0\n",
      "n_steps           0\n",
      "steps             0\n",
      "description       0\n",
      "ingredients       0\n",
      "n_ingredients     0\n",
      "dtype: int64\n",
      "user_id      0\n",
      "recipe_id    0\n",
      "date         0\n",
      "rating       0\n",
      "review       0\n",
      "dtype: int64\n"
     ]
    }
   ],
   "source": [
    "print(recipes.isnull().sum())\n",
    "print(interactions.isnull().sum())"
   ]
  },
  {
   "cell_type": "markdown",
   "metadata": {},
   "source": [
    "On vérifie les doublons"
   ]
  },
  {
   "cell_type": "code",
   "execution_count": 15,
   "metadata": {},
   "outputs": [
    {
     "name": "stdout",
     "output_type": "stream",
     "text": [
      "0\n",
      "0\n"
     ]
    }
   ],
   "source": [
    "print(recipes.duplicated().sum())\n",
    "print(interactions.duplicated().sum())"
   ]
  },
  {
   "cell_type": "markdown",
   "metadata": {},
   "source": [
    "On vérifie les valeurs aberrantes\n",
    "\n",
    "les minutes et les steps semblent anormales. "
   ]
  },
  {
   "cell_type": "code",
   "execution_count": 22,
   "metadata": {},
   "outputs": [
    {
     "name": "stdout",
     "output_type": "stream",
     "text": [
      "            minutes        n_steps  n_ingredients\n",
      "count  2.316360e+05  231636.000000  231636.000000\n",
      "mean   9.398587e+03       9.765516       9.051149\n",
      "std    4.461973e+06       5.995136       3.734803\n",
      "min    0.000000e+00       0.000000       1.000000\n",
      "25%    2.000000e+01       6.000000       6.000000\n",
      "50%    4.000000e+01       9.000000       9.000000\n",
      "75%    6.500000e+01      12.000000      11.000000\n",
      "max    2.147484e+09     145.000000      43.000000\n",
      "                                date        rating\n",
      "count                        1132367  1.132367e+06\n",
      "mean   2009-05-13 02:57:38.777586944  4.411016e+00\n",
      "min              2000-01-25 00:00:00  0.000000e+00\n",
      "25%              2007-03-11 00:00:00  4.000000e+00\n",
      "50%              2008-12-29 00:00:00  5.000000e+00\n",
      "75%              2011-03-07 00:00:00  5.000000e+00\n",
      "max              2018-12-20 00:00:00  5.000000e+00\n",
      "std                              NaN  1.264752e+00\n"
     ]
    }
   ],
   "source": [
    "print(recipes[['minutes', 'n_steps', 'n_ingredients']].describe())\n",
    "\n",
    "print(interactions[['date', 'rating']].describe())"
   ]
  },
  {
   "cell_type": "code",
   "execution_count": 26,
   "metadata": {},
   "outputs": [
    {
     "data": {
      "image/png": "[encoded data removed]",
      "text/plain": [
       "<Figure size 1200x600 with 2 Axes>"
      ]
     },
     "metadata": {},
     "output_type": "display_data"
    }
   ],
   "source": [
    "import matplotlib.pyplot as plt\n",
    "import seaborn as sns\n",
    "\n",
    "# Ajuster la taille de la figure pour une meilleure visualisation\n",
    "plt.figure(figsize=(12, 6))\n",
    "\n",
    "# Boxplot pour 'minutes'\n",
    "plt.subplot(1, 2, 1)  # Première colonne\n",
    "sns.boxplot(x=recipes['minutes'], color='skyblue')\n",
    "plt.title('Boxplot des minutes')\n",
    "plt.xlabel('Minutes')\n",
    "\n",
    "# Boxplot pour 'n_steps'\n",
    "plt.subplot(1, 2, 2)  # Deuxième colonne\n",
    "sns.boxplot(x=recipes['n_steps'], color='lightgreen')\n",
    "plt.title('Boxplot des étapes (n_steps)')\n",
    "plt.xlabel('Nombre d\\'étapes')\n",
    "\n",
    "# Afficher les graphiques\n",
    "plt.tight_layout()\n",
    "plt.show()"
   ]
  },
  {
   "cell_type": "code",
   "execution_count": 34,
   "metadata": {},
   "outputs": [
    {
     "data": {
      "text/html": [
       "<div>\n",
       "<style scoped>\n",
       "    .dataframe tbody tr th:only-of-type {\n",
       "        vertical-align: middle;\n",
       "    }\n",
       "\n",
       "    .dataframe tbody tr th {\n",
       "        vertical-align: top;\n",
       "    }\n",
       "\n",
       "    .dataframe thead th {\n",
       "        text-align: right;\n",
       "    }\n",
       "</style>\n",
       "<table border=\"1\" class=\"dataframe\">\n",
       "  <thead>\n",
       "    <tr style=\"text-align: right;\">\n",
       "      <th></th>\n",
       "      <th>Category</th>\n",
       "      <th>Number of Recipes</th>\n",
       "    </tr>\n",
       "  </thead>\n",
       "  <tbody>\n",
       "    <tr>\n",
       "      <th>0</th>\n",
       "      <td>0-30 min</td>\n",
       "      <td>80662</td>\n",
       "    </tr>\n",
       "    <tr>\n",
       "      <th>1</th>\n",
       "      <td>30-60 min</td>\n",
       "      <td>78166</td>\n",
       "    </tr>\n",
       "    <tr>\n",
       "      <th>2</th>\n",
       "      <td>1-5 h</td>\n",
       "      <td>62630</td>\n",
       "    </tr>\n",
       "    <tr>\n",
       "      <th>3</th>\n",
       "      <td>5-24 h</td>\n",
       "      <td>8058</td>\n",
       "    </tr>\n",
       "    <tr>\n",
       "      <th>4</th>\n",
       "      <td>24-48 h</td>\n",
       "      <td>1413</td>\n",
       "    </tr>\n",
       "    <tr>\n",
       "      <th>5</th>\n",
       "      <td>2-4j</td>\n",
       "      <td>356</td>\n",
       "    </tr>\n",
       "    <tr>\n",
       "      <th>6</th>\n",
       "      <td>4-7</td>\n",
       "      <td>91</td>\n",
       "    </tr>\n",
       "    <tr>\n",
       "      <th>7</th>\n",
       "      <td>7+</td>\n",
       "      <td>261</td>\n",
       "    </tr>\n",
       "  </tbody>\n",
       "</table>\n",
       "</div>"
      ],
      "text/plain": [
       "    Category  Number of Recipes\n",
       "0   0-30 min              80662\n",
       "1  30-60 min              78166\n",
       "2      1-5 h              62630\n",
       "3     5-24 h               8058\n",
       "4    24-48 h               1413\n",
       "5       2-4j                356\n",
       "6        4-7                 91\n",
       "7         7+                261"
      ]
     },
     "metadata": {},
     "output_type": "display_data"
    }
   ],
   "source": [
    "import pandas as pd\n",
    "\n",
    "# Définir les intervalles de temps (en minutes)\n",
    "bins = [0, 30, 60, 300, 1440, 2880, 5760,\n",
    "        10080, float('inf')]  # Catégories définies\n",
    "labels = ['0-30 min', '30-60 min', '1-5 h', '5-24 h',\n",
    "          '24-48 h', '2-4j', '4-7', '7+']  # Noms des catégories\n",
    "\n",
    "# Créer une nouvelle colonne catégorisant les durées\n",
    "recipes['time_category'] = pd.cut(\n",
    "    recipes['minutes'], bins=bins, labels=labels, right=False)\n",
    "\n",
    "# Compter le nombre de recettes dans chaque catégorie\n",
    "category_counts = recipes['time_category'].value_counts().sort_index()\n",
    "\n",
    "\n",
    "# Optionnel : Afficher les résultats sous forme de tableau pandas\n",
    "category_counts_df = category_counts.reset_index()\n",
    "category_counts_df.columns = ['Category', 'Number of Recipes']\n",
    "display(category_counts_df)"
   ]
  },
  {
   "cell_type": "code",
   "execution_count": null,
   "metadata": {},
   "outputs": [
    {
     "name": "stdout",
     "output_type": "stream",
     "text": [
      "Nombre de recettes restantes : 230955\n",
      "Durée maximale restante (en minutes) : 2880\n"
     ]
    }
   ],
   "source": [
    "# Supprimer les recettes dont les minutes dépassent 2880 (48 heures)\n",
    "recipes = recipes[recipes['minutes'] <= 2881]\n",
    "\n",
    "# Vérifier les dimensions après suppression\n",
    "print(f\"Nombre de recettes restantes : {recipes.shape[0]}\")\n",
    "# Vérifier la valeur maximale de la colonne 'minutes'\n",
    "max_minutes = recipes['minutes'].max()\n",
    "print(f\"Durée maximale restante (en minutes) : {max_minutes}\")"
   ]
  },
  {
   "cell_type": "code",
   "execution_count": null,
   "metadata": {},
   "outputs": [
    {
     "data": {
      "text/html": [
       "<div>\n",
       "<style scoped>\n",
       "    .dataframe tbody tr th:only-of-type {\n",
       "        vertical-align: middle;\n",
       "    }\n",
       "\n",
       "    .dataframe tbody tr th {\n",
       "        vertical-align: top;\n",
       "    }\n",
       "\n",
       "    .dataframe thead th {\n",
       "        text-align: right;\n",
       "    }\n",
       "</style>\n",
       "<table border=\"1\" class=\"dataframe\">\n",
       "  <thead>\n",
       "    <tr style=\"text-align: right;\">\n",
       "      <th></th>\n",
       "      <th>Category</th>\n",
       "      <th>Number of Recipes</th>\n",
       "    </tr>\n",
       "  </thead>\n",
       "  <tbody>\n",
       "    <tr>\n",
       "      <th>0</th>\n",
       "      <td>0-10 steps</td>\n",
       "      <td>132334</td>\n",
       "    </tr>\n",
       "    <tr>\n",
       "      <th>1</th>\n",
       "      <td>10-20 steps</td>\n",
       "      <td>84250</td>\n",
       "    </tr>\n",
       "    <tr>\n",
       "      <th>2</th>\n",
       "      <td>20-30 steps</td>\n",
       "      <td>11882</td>\n",
       "    </tr>\n",
       "    <tr>\n",
       "      <th>3</th>\n",
       "      <td>30-40 steps</td>\n",
       "      <td>1879</td>\n",
       "    </tr>\n",
       "    <tr>\n",
       "      <th>4</th>\n",
       "      <td>40-60 steps</td>\n",
       "      <td>546</td>\n",
       "    </tr>\n",
       "    <tr>\n",
       "      <th>5</th>\n",
       "      <td>60-100 steps</td>\n",
       "      <td>59</td>\n",
       "    </tr>\n",
       "    <tr>\n",
       "      <th>6</th>\n",
       "      <td>100+ steps</td>\n",
       "      <td>5</td>\n",
       "    </tr>\n",
       "  </tbody>\n",
       "</table>\n",
       "</div>"
      ],
      "text/plain": [
       "       Category  Number of Recipes\n",
       "0    0-10 steps             132334\n",
       "1   10-20 steps              84250\n",
       "2   20-30 steps              11882\n",
       "3   30-40 steps               1879\n",
       "4   40-60 steps                546\n",
       "5  60-100 steps                 59\n",
       "6    100+ steps                  5"
      ]
     },
     "metadata": {},
     "output_type": "display_data"
    }
   ],
   "source": [
    "# Définir les intervalles de temps pour les étapes\n",
    "# Catégories définies pour n_steps\n",
    "bins_steps = [0, 10, 20, 30, 40, 60, 100, float('inf')]\n",
    "labels_steps = ['0-10 steps', '10-20 steps', '20-30 steps', '30-40 steps',\n",
    "                '40-60 steps', '60-100 steps', '100+ steps']  # Noms des catégories\n",
    "\n",
    "# Créer une nouvelle colonne catégorisant les nombres d'étapes\n",
    "recipes['steps_category'] = pd.cut(\n",
    "    recipes['n_steps'], bins=bins_steps, labels=labels_steps, right=False)\n",
    "\n",
    "# Compter le nombre de recettes dans chaque catégorie\n",
    "category_counts_steps = recipes['steps_category'].value_counts().sort_index()\n",
    "\n",
    "# Optionnel : Afficher les résultats sous forme de tableau pandas\n",
    "category_counts_steps_df = category_counts_steps.reset_index()\n",
    "category_counts_steps_df.columns = ['Category', 'Number of Recipes']\n",
    "display(category_counts_steps_df)"
   ]
  },
  {
   "cell_type": "code",
   "execution_count": null,
   "metadata": {},
   "outputs": [
    {
     "name": "stdout",
     "output_type": "stream",
     "text": [
      "Nombre de recettes restantes : 230425\n",
      "Nombre d'étapes maximal restant : 40\n"
     ]
    }
   ],
   "source": [
    "# Supprimer les recettes dont le nombre d'étapes est supérieur à 40\n",
    "recipes = recipes[recipes['n_steps'] <= 40]\n",
    "\n",
    "# Vérifier les dimensions après suppression\n",
    "print(f\"Nombre de recettes restantes : {recipes.shape[0]}\")\n",
    "# Vérifier la valeur maximale de n_steps restante\n",
    "max_steps = recipes['n_steps'].max()\n",
    "print(f\"Nombre d'étapes maximal restant : {max_steps}\")"
   ]
  },
  {
   "cell_type": "code",
   "execution_count": 46,
   "metadata": {},
   "outputs": [
    {
     "data": {
      "image/png": "[encoded data removed]",
      "text/plain": [
       "<Figure size 1200x600 with 2 Axes>"
      ]
     },
     "metadata": {},
     "output_type": "display_data"
    }
   ],
   "source": [
    "# Ajuster la taille de la figure pour une meilleure visualisation\n",
    "plt.figure(figsize=(12, 6))\n",
    "\n",
    "# Boxplot pour 'minutes'\n",
    "plt.subplot(1, 2, 1)  # Première colonne\n",
    "sns.boxplot(x=recipes['minutes'], color='skyblue')\n",
    "plt.title('Boxplot des minutes')\n",
    "plt.xlabel('Minutes')\n",
    "\n",
    "# Boxplot pour 'n_steps'\n",
    "plt.subplot(1, 2, 2)  # Deuxième colonne\n",
    "sns.boxplot(x=recipes['n_steps'], color='lightgreen')\n",
    "plt.title('Boxplot des étapes (n_steps)')\n",
    "plt.xlabel('Nombre d\\'étapes')\n",
    "\n",
    "# Afficher les graphiques\n",
    "plt.tight_layout()\n",
    "plt.show()"
   ]
  },
  {
   "cell_type": "markdown",
   "metadata": {},
   "source": [
    "Normalisation du texte \n"
   ]
  },
  {
   "cell_type": "code",
   "execution_count": null,
   "metadata": {},
   "outputs": [],
   "source": [
    "recipes['tags'] = recipes['tags'].str.lower()\n",
    "interactions['review'] = interactions['review'].str.lower()"
   ]
  },
  {
   "cell_type": "markdown",
   "metadata": {},
   "source": [
    "On vérifie la cohérence des dates"
   ]
  },
  {
   "cell_type": "code",
   "execution_count": 21,
   "metadata": {},
   "outputs": [
    {
     "name": "stdout",
     "output_type": "stream",
     "text": [
      "1999-08-06 00:00:00 2018-12-04 00:00:00\n",
      "2000-01-25 00:00:00 2018-12-20 00:00:00\n"
     ]
    }
   ],
   "source": [
    "print(recipes['submitted'].min(), recipes['submitted'].max())\n",
    "print(interactions['date'].min(), interactions['date'].max())"
   ]
  },
  {
   "cell_type": "code",
   "execution_count": null,
   "metadata": {},
   "outputs": [
    {
     "name": "stdout",
     "output_type": "stream",
     "text": [
      "Les bases nettoyées ont été sauvegardées dans le répertoire courant.\n"
     ]
    }
   ],
   "source": [
    "# Enregistrer le dataset recipes nettoyé\n",
    "recipes.to_csv('clean_recipes.csv', index=False)\n",
    "\n",
    "# Enregistrer le dataset interactions nettoyé\n",
    "interactions.to_csv('clean_interactions.csv', index=False)\n",
    "\n",
    "print(\"Les bases nettoyées ont été sauvegardées dans le répertoire courant.\")"
   ]
  }
 ],
 "metadata": {
  "kernelspec": {
   "display_name": "Python 3",
   "language": "python",
   "name": "python3"
  },
  "language_info": {
   "codemirror_mode": {
    "name": "ipython",
    "version": 3
   },
   "file_extension": ".py",
   "mimetype": "text/x-python",
   "name": "python",
   "nbconvert_exporter": "python",
   "pygments_lexer": "ipython3",
   "version": "3.12.7"
  }
 },
 "nbformat": 4,
 "nbformat_minor": 2
}
